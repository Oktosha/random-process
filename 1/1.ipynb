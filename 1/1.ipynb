{
 "cells": [
  {
   "cell_type": "markdown",
   "metadata": {},
   "source": [
    "# Билет 1\n",
    "**Общее понятие случайного процесса (случайной функции), траектории случайного процесса. Примеры случайных процессов: случайное блуждание, процессы восстановления, модель страхования Крамера – Лундберга. Лемма о конечности п.н. процесса восстановления.**"
   ]
  },
  {
   "cell_type": "markdown",
   "metadata": {},
   "source": [
    "*Определение.* Пусть $(\\Omega, \\mathcal{F})$, $(E, \\mathcal{E})$ измеримые пространства, т. е. пространства, на которых заданы сигма-алгебры. Отоборажение $X:\\Omega \\rightarrow E$ называется $\\mathcal{F}|\\mathcal{E}$ измеримым, если прообраз любого элемента $B$ из $\\mathcal{E}$ принадлежит $\\mathcal{F}$."
   ]
  },
  {
   "cell_type": "markdown",
   "metadata": {},
   "source": [
    "*Определение.* Пусть $(\\Omega, \\mathcal{F}, P)$ — вероятностное пространство. $(E, \\mathcal{E})$ - измеримое пространство. Измеримое отображение $X:\\Omega \\rightarrow E$ называется **случайным элементом**.\n",
    "\n",
    "+ Если $(E, \\mathcal{E}) = (\\mathbb{R}, B(\\mathbb{R}))$, то $X$ — случайная величина.\n",
    "+ Если $(E, \\mathcal{E}) = (\\mathbb{R}^n, B(\\mathbb{R}^n))$, то $X$ — случайный вектор."
   ]
  }
 ],
 "metadata": {
  "kernelspec": {
   "display_name": "Python 3",
   "language": "python",
   "name": "python3"
  },
  "language_info": {
   "codemirror_mode": {
    "name": "ipython",
    "version": 3
   },
   "file_extension": ".py",
   "mimetype": "text/x-python",
   "name": "python",
   "nbconvert_exporter": "python",
   "pygments_lexer": "ipython3",
   "version": "3.5.0"
  }
 },
 "nbformat": 4,
 "nbformat_minor": 0
}
