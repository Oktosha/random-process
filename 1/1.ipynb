{
 "cells": [
  {
   "cell_type": "markdown",
   "metadata": {},
   "source": [
    "# Билет 1\n",
    "**Общее понятие случайного процесса (случайной функции), траектории случайного процесса. Примеры случайных процессов: случайное блуждание, процессы восстановления, модель страхования Крамера – Лундберга. Лемма о конечности п.н. процесса восстановления.**"
   ]
  },
  {
   "cell_type": "markdown",
   "metadata": {},
   "source": [
    "*Определение.* Пусть $(\\Omega, \\mathcal{F})$, $(E, \\mathcal{E})$ измеримые пространства, т. е. пространства, на которых заданы сигма-алгебры. Отоборажение $X:\\Omega \\rightarrow E$ называется ** $\\mathcal{F}|\\mathcal{E}$ измеримым**, если прообраз любого элемента $B$ из $\\mathcal{E}$ принадлежит $\\mathcal{F}$."
   ]
  },
  {
   "cell_type": "markdown",
   "metadata": {},
   "source": [
    "*Определение.* Пусть $(\\Omega, \\mathcal{F}, P)$ — вероятностное пространство. $(E, \\mathcal{E})$ - измеримое пространство. Измеримое отображение $X:\\Omega \\rightarrow E$ называется **случайным элементом**.\n",
    "\n",
    "+ Если $(E, \\mathcal{E}) = (\\mathbb{R}, B(\\mathbb{R}))$, то $X$ — случайная величина.\n",
    "+ Если $(E, \\mathcal{E}) = (\\mathbb{R}^n, B(\\mathbb{R}^n))$, то $X$ — случайный вектор."
   ]
  },
  {
   "cell_type": "markdown",
   "metadata": {},
   "source": [
    "*Определение.* Пусть $T$ — множество. Тогда набор $X = (X_t, t \\in T)$ случайных элементов $X_t$, заданных на одном и том же вероятностном пространстве $(\\Omega, \\mathcal{F}, P)$ называется **случайной функцией на $T$**."
   ]
  },
  {
   "cell_type": "markdown",
   "metadata": {},
   "source": [
    "*Определение.* При фиксированном $\\omega_0 \\in \\Omega$ функция $\\tilde X(t) = X(t, \\omega_0) = X_t(\\omega_0)$ называется **траекторией** или реализацией случайной функции.\n",
    "\n",
    "+ Если $T \\subset \\mathbb{R}$, то $(X_t, t \\in T)$ — случайный процесс.\n",
    "+ Если $T = \\mathbb{R}, [a, b], \\mathbb{R}_+$, то $(X_t, t \\in T)$ случайный процесс с непрерывным временем.\n",
    "+ Если $T = \\mathbb{N}, \\mathbb{Z}_+$, то $(X_t, t \\in T)$ случайный процесс с дискретным временем.\n",
    "+ Если $T \\subset \\mathbb{R}^d$, то $(X_t, t \\in T)$ — случайное поле."
   ]
  },
  {
   "cell_type": "markdown",
   "metadata": {},
   "source": [
    "## Примеры"
   ]
  },
  {
   "cell_type": "markdown",
   "metadata": {},
   "source": [
    "### Случайное блуждание\n",
    "Пусть $\\xi_1, \\ldots, \\xi_n, \\ldots$ — независимые случайные вектора в $\\mathbb{R}^m$, $S_n = \\xi_1 + \\ldots + \\xi_n$. Тогда $(S_n, n \\in \\mathbb{Z}_+)$ — **случайное блуждание в $\\mathbb{R}^m$**. "
   ]
  },
  {
   "cell_type": "markdown",
   "metadata": {},
   "source": [
    "### Процесс восстановления\n",
    "Пусть $\\xi_1, \\ldots, \\xi_n, \\ldots$ — независимые одинаково распределённые неотрицательные случайные величины, причём $\\xi_n \\ne const$ п. н. Пусть $S_n = \\xi_1 + \\ldots + \\xi_n$, $S_0 = 0$. Тогда процесс\n",
    "\n",
    "$$X_t = \\sup_n\\{n : S_n \\le t\\}$$\n",
    "\n",
    "называется **процессом восстановления**."
   ]
  },
  {
   "cell_type": "markdown",
   "metadata": {},
   "source": [
    "*«Физический смысл» процесса восстановления.* Процесс восстановления моделирует, сколько лампочек придётся заменить к моменту времени $t$, если время работы лампочки до перегорания — это случайная величина $\\xi_n$."
   ]
  },
  {
   "cell_type": "markdown",
   "metadata": {},
   "source": [
    "**Лемма.** *Процесс восстановления конечен п. н.*"
   ]
  },
  {
   "cell_type": "markdown",
   "metadata": {},
   "source": [
    "Необходимо показать, что в процессе восстановления $P(X_t = +\\infty) = 0$."
   ]
  },
  {
   "cell_type": "markdown",
   "metadata": {},
   "source": [
    "*Случай 1.* $E\\xi_n$ конечно, т. е. $E\\xi_n = a$. Тогда для фиксированного $t > 0$\n",
    "\n",
    "$$P(X_t = +\\infty) = P(\\forall n \\: S_n \\le t) = \\lim_{n\\rightarrow\\infty}P(S_n\\le t) = \\lim_{n\\rightarrow\\infty}P(\\frac{S_n}{n}\\le \\frac{t}{n})$$"
   ]
  },
  {
   "cell_type": "markdown",
   "metadata": {},
   "source": [
    "При достаточно больших $n$ $\\frac{t}{n} \\le \\frac{a}{2}$. Значит\n",
    "\n",
    "$$\\lim_{n\\rightarrow\\infty}P(\\frac{S_n}{n}\\le \\frac{t}{n}) \\le \n",
    "\\lim_{n\\rightarrow\\infty}P(\\frac{S_n}{n}\\le \\frac{a}{2})$$\n"
   ]
  },
  {
   "cell_type": "markdown",
   "metadata": {},
   "source": [
    "По УЗБЧ $\\frac{S_n}{n} \\rightarrow a$ п. н.\n",
    "\n",
    "Поэтому *(надо ещё что-то сказать про сходимость по распределению)*\n",
    "\n",
    "$$\\lim_{n\\rightarrow\\infty}P(\\frac{S_n}{n}\\le \\frac{a}{2}) \\le \n",
    "\\lim_{n\\rightarrow\\infty}P(a \\le \\frac{a}{2}) = 0$$"
   ]
  },
  {
   "cell_type": "markdown",
   "metadata": {},
   "source": [
    "Т. к. $X_t(\\omega)$ монотонно неубывает при фиксированном $\\omega$, то\n",
    "\n",
    "$$P(\\exists t\\in \\mathbb{R}_+ : X_t = +\\infty) \\le \n",
    "P(\\exists t\\in \\mathbb{N} : X_t = +\\infty) = 0$$"
   ]
  },
  {
   "cell_type": "markdown",
   "metadata": {},
   "source": [
    "*Случай 2.* $E\\xi_n = +\\infty$. Сведём к предыдущему случаю, рассмотрев $\\tilde\\xi_n = min(1, \\xi_n)$"
   ]
  },
  {
   "cell_type": "markdown",
   "metadata": {},
   "source": [
    "### Модель страхования Крамера-Лундберга\n",
    "\n",
    "Пусть $\\{\\xi_n, n \\in \\mathbb{N}\\}$ — независимые одинаково распределённые случайные величины, $(X_t, t \\ge 0)$ — процесс восстановления, построенный по ним. Пусть $\\{\\eta_m, m \\in \\mathbb{N}\\}$ — независимые одинаково распределённые случайные величины, независимые с $\\{\\xi_n\\}$, а $y_0$ и $c$ — положительные константы. Тогда\n",
    "\n",
    "$$ Y_t = y_0 + ct - \\sum_{k = 1}^{X_t}\\eta_k \\quad t \\ge 0 $$\n",
    "\n",
    "**модель страхования Крамера-Лундберга**."
   ]
  },
  {
   "cell_type": "markdown",
   "metadata": {},
   "source": [
    "Страховая компания, имеет начальный капитал $y_0$. Она получает от клиентов страховые взносы со скоростью $c$ *(клиенты регулярно покупают страховой полис на машину)*. В момент $S_k = \\xi_1 + \\ldots + \\xi_k$ наступает страховой случай у $k$-го клиента *(на машину $k$-го клиента падает дерево)*, и ему нужно выплатить $\\eta_k$ денег. Модель страхования Крамера-Лундберга предсказывает количество денег у страховой компании в момент времени $t$. Если в какой-то момент $Y_t < 0$, то значит, что страховая компания разорилась."
   ]
  },
  {
   "cell_type": "markdown",
   "metadata": {},
   "source": [
    "**Элементарная теорема о восстановлении (б/д)**. Если в модели страхования $E\\xi_n = \\lambda > 0$, $E\\eta_m = \\mu > 0$, то $E(\\frac{1}{t}\\sum_{k = 1}^{X_k}\\eta_k)\\rightarrow\\frac{\\mu}{\\lambda}$."
   ]
  }
 ],
 "metadata": {
  "kernelspec": {
   "display_name": "Python 3",
   "language": "python",
   "name": "python3"
  },
  "language_info": {
   "codemirror_mode": {
    "name": "ipython",
    "version": 3
   },
   "file_extension": ".py",
   "mimetype": "text/x-python",
   "name": "python",
   "nbconvert_exporter": "python",
   "pygments_lexer": "ipython3",
   "version": "3.5.0"
  }
 },
 "nbformat": 4,
 "nbformat_minor": 0
}
