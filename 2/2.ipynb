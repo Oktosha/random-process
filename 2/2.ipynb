{
 "cells": [
  {
   "cell_type": "markdown",
   "metadata": {},
   "source": [
    "# Билет 2\n",
    "\n",
    "**Производящие функции случайных величин, их основные свойства. Ветвящиеся процессы Гальтона – Ватсона. Соотношение между производящими функциями числа частиц в $n$-м и $(n+1)$-м поколениях. Вывод уравнения для вероятности вырождения процесса.**"
   ]
  },
  {
   "cell_type": "markdown",
   "metadata": {},
   "source": [
    "## Производящие функции\n",
    "\n",
    "*Определение.* Пусть $\\xi$ — случайная величина. Её **производящей функцией** называется функция $\\varphi_\\xi(z) = Ez^\\xi$, $z \\in \\mathbb{R}$."
   ]
  },
  {
   "cell_type": "markdown",
   "metadata": {},
   "source": [
    "*Свойство 1.* $\\varphi_\\xi(1) = 1$\n",
    "\n",
    "Действительно, $\\varphi_\\xi(1) = E1^\\xi = E1 = 1$."
   ]
  },
  {
   "cell_type": "markdown",
   "metadata": {},
   "source": [
    "*Свойство 2.* $\\varphi_\\xi'(1) = E\\xi$\n",
    "\n",
    "$$\\varphi_\\xi'(1) = \\lim_{z\\rightarrow 0}\\frac{\\varphi_\\xi(1 + z) - \\varphi_\\xi(1)}{z} \n",
    "= \\lim_{z\\rightarrow 0}\\frac{E(1 + z)^\\xi - 1}{z}$$"
   ]
  },
  {
   "cell_type": "markdown",
   "metadata": {},
   "source": [
    "Разложим $f(z) = (1 + z)^\\xi$ по Тейлору. Получим $1 + z\\xi + o(z)$. Подставим обратно."
   ]
  },
  {
   "cell_type": "markdown",
   "metadata": {},
   "source": [
    "$$\\lim_{z\\rightarrow 0}\\frac{E(1 + z\\xi + o(z)) - 1}{z}\n",
    "= \\lim_{z\\rightarrow 0}(E\\xi + o(1)) = E\\xi$$"
   ]
  },
  {
   "cell_type": "markdown",
   "metadata": {},
   "source": [
    "*Свойство 3.* Если $\\xi, \\eta$ независимы, то $\\varphi_{\\xi + \\eta}(z) = \\varphi_\\xi(z)\\varphi_\\eta(z)$"
   ]
  },
  {
   "cell_type": "markdown",
   "metadata": {},
   "source": [
    "$$\\varphi_{\\xi + \\eta}(z) = Ez^{\\xi + \\eta} = E(z^\\xi z^\\eta)$$\n",
    "\n",
    "Если $\\xi$ и $\\eta$ независимы, то $z^\\xi$ и $z^\\eta$ тоже независимы. Значит от мат. ожидания произведения можно перейти к произведению мат. ожиданий.\n",
    "\n",
    "$$E(z^\\xi z^\\eta) = Ez^\\xi Ez^\\eta = \\varphi_\\xi(z) \\varphi_\\eta(z)$$"
   ]
  },
  {
   "cell_type": "markdown",
   "metadata": {},
   "source": [
    "Ниже рассмотрим свойства производящих функций, которые верны, когда **случайная величина $\\xi$ принимает значения из $\\mathbb{Z}_+$**."
   ]
  },
  {
   "cell_type": "markdown",
   "metadata": {},
   "source": [
    "*Свойство 4.* $\\varphi_\\xi(z) = \\sum_{k = 0}^{\\infty}z^kP(\\xi = k)$, причём ряд сходится абсолютно и равномерно на множестве $\\{z : |z| < 1\\}$."
   ]
  },
  {
   "cell_type": "markdown",
   "metadata": {},
   "source": [
    "$\\varphi_\\xi(z) = Ez^\\xi = \\sum_{k = 0}^{\\infty}z^kP(\\xi = k)$. При этом на множестве $\\{z : |z| < 1\\}$ сумма ряда тривиально оценивается сверху. $\\sum_{k = 0}^{\\infty}z^kP(\\xi = k) \\le \\sum_{k = 0}^{\\infty}(1 \\cdot P(\\xi = k))= 1$."
   ]
  },
  {
   "cell_type": "markdown",
   "metadata": {},
   "source": [
    "*Свойство 4.1.* Как следствие свойства 4,  $\\varphi_\\xi(z)$ бесконечно дифференцируема на $\\{z : |z| < 1\\}$."
   ]
  },
  {
   "cell_type": "markdown",
   "metadata": {},
   "source": [
    "*Свойство 5.* $P(\\xi = k) = \\frac{1}{k!}\\frac{d^k}{dz^k}\\varphi(z)|_{z = 0}$"
   ]
  },
  {
   "cell_type": "markdown",
   "metadata": {},
   "source": [
    "просто потому что коэфициенты ряда Тейлора имеют такой вид."
   ]
  },
  {
   "cell_type": "markdown",
   "metadata": {},
   "source": [
    "*Свойство 5.1* $\\varphi_\\xi(0) = P(\\xi = 0)$"
   ]
  },
  {
   "cell_type": "markdown",
   "metadata": {},
   "source": [
    "## Ветвящийся процесс Гальтона-Ватсона\n",
    "\n",
    "*Мы моделируем размножение паразитов. Сначала в организме только 1 паразит. Паразит живёт один день. За этот день он порождает случайное число потомков, а потом умирает. На следующий день его потомки породят ещё потомков и умрут. Мы хотим узнать, сколько паразитов будет на $n$-тый день.*"
   ]
  },
  {
   "cell_type": "markdown",
   "metadata": {},
   "source": [
    "Пусть $\\xi$ — случайная величина со значениями в $\\mathbb{Z}_+$. Пусть $\\{\\xi_n^{(k)} : n, k \\in \\mathbb{N}\\}$ — набор независимых случайных величин, имеющих то же распределение, что и $\\xi$. Для $n \\in \\mathbb{N}$ определим $X_n$ по правилам:\n",
    "\n",
    "+ $X_0 = 1$\n",
    "+ $X_n = \\sum_{k = 1}^{X_{n - 1}}\\xi_n^{(k)}$"
   ]
  },
  {
   "cell_type": "markdown",
   "metadata": {},
   "source": [
    "Тогда случайный процесс $(X_n, n \\in \\mathbb{Z}_+)$ будем называть **ветвящимся процессом Гальтона-Ватсона** с законом размножения $\\xi$."
   ]
  },
  {
   "cell_type": "markdown",
   "metadata": {},
   "source": [
    "## Соотношение между числом частиц на $n$-м b $n+1$-м уровнях"
   ]
  },
  {
   "cell_type": "markdown",
   "metadata": {},
   "source": [
    "**Теорема**. *Пусть $(X_n, n \\in \\mathbb{Z}_+)$ — ветвящийся процесс Гамильтона-Ватсона с законом размножения частиц $\\xi$. Тогда $\\varphi_{X_{n+1}}(z) = \\varphi_{X_{n}}(\\varphi_\\xi(z))$.*"
   ]
  },
  {
   "cell_type": "markdown",
   "metadata": {},
   "source": [
    "$$\\varphi_{X_{n+1}}(t) = Ez^{X_{n+1}} \n",
    "= Ez^{\\sum_{k = 1}^{X_n}\\xi^n_k} \n",
    "= E\\sum_{m = 0}^\\infty z^{\\sum_{k = 1}^{m}\\xi^n_k}I(X_n = m)\n",
    "= E\\sum_{m = 0}^\\infty (I(X_n = m)\\prod_{k = 1}^m z^{\\xi^n_k})\n",
    "= \\sum_{m = 0}^\\infty E(I(X_n = m)\\prod_{k = 1}^m z^{\\xi^n_k})$$"
   ]
  },
  {
   "cell_type": "markdown",
   "metadata": {},
   "source": [
    "Воспользуемся независимостью случайных величин, произведение которых берётся под знаком математического ожидания.\n",
    "\n",
    "$$ \\sum_{m = 0}^\\infty E(I(X_n = m)\\prod_{k = 1}^m z^{\\xi^n_k})\n",
    "= \\sum_{m = 0}^\\infty E(I(X_n = m))\\prod_{k = 1}^m E(z^{\\xi^n_k})\n",
    "= \\sum_{m = 0}^\\infty P(X_n = m) (\\varphi_\\xi(z))^m \n",
    "= \\varphi_{X_n}(\\varphi_\\xi(z))$$\n",
    "\n",
    "Итак, мы доказали, то, что требовалось: $\\varphi_{X_{n + 1}} = \\varphi_{X_n}(\\varphi_\\xi(z))$"
   ]
  },
  {
   "cell_type": "markdown",
   "metadata": {},
   "source": [
    "**Следствие 1.** $\\varphi_{X_n}(z) = \\varphi_\\xi(\\varphi_\\xi( \\ldots \\varphi_\\xi(z) \\ldots))$, где в правой части — $n$-кратная композиция производящих функций случайной величины $\\xi$."
   ]
  },
  {
   "cell_type": "markdown",
   "metadata": {},
   "source": [
    "**Следствие 2.** $\\varphi_{X_n}(z) = \\varphi_\\xi(\\varphi_{X_{n-1}}(z))$."
   ]
  },
  {
   "cell_type": "markdown",
   "metadata": {},
   "source": [
    "## Вывод уравнения для вероятности вырождения процесса\n",
    "\n",
    "*Определение.* Назовём **вырождением** процесса Гальтона-Ватсона событие $\\{\\exists n : X_n = 0\\}$."
   ]
  },
  {
   "cell_type": "markdown",
   "metadata": {},
   "source": [
    "**Утверждение (уравнение вероятности вырождения).** *Пусть $(X_n, n \\in \\mathbb{Z}+)$ — ветвящийся процесс Гальтона-Ватсона с законом размножения частиц $\\xi$. Тогда вероятность вырождения процесса является корнем уравнения $s = \\varphi_\\xi(s)$.*"
   ]
  },
  {
   "cell_type": "markdown",
   "metadata": {},
   "source": [
    "Обозначим $q_n = P(X_n = 0)$, $q = P(\\exists n : X_n = 0)$. Заметим, что $\\{ X_n = 0\\} \\subset \\{ X_{n+1} = 0\\}. Тогда по теореме о непрерывности вероятностной меры:\n",
    "\n",
    "$$q = P(\\exists n : X_n = 0) = P(\\cup_{n=1}^{+\\infty} : \\{X_n = 0\\}) = \\lim_{n\\rightarrow+\\infty}P(X_n = 0) = \\lim_{n\\rightarrow+\\infty}q_n$$"
   ]
  },
  {
   "cell_type": "markdown",
   "metadata": {},
   "source": [
    "Из свойства 5.1 производящих функций $P(X_n = 0) = \\varphi_{X_n}(0)$.\n",
    "\n",
    "Из следствия 2 теоремы о соотношении между числом частиц на $n$ и $n+1$ шагах $\\varphi_{X_n}(0) = \\varphi_\\xi(\\varphi_{X_{n-1}}(0))$"
   ]
  },
  {
   "cell_type": "markdown",
   "metadata": {},
   "source": [
    "Значит, $q_n = P(X_n = 0) = \\varphi_{X_n}(0) = \\varphi_\\xi(\\varphi_{X_{n-1}}(0)) = \\varphi_\\xi(q_{n - 1})$. Учитывая непрерывность $\\varphi_\\xi$, можем перейти к пределу по $n$. Получим уравнение $q = \\varphi_\\xi(q)$, "
   ]
  },
  {
   "cell_type": "code",
   "execution_count": null,
   "metadata": {
    "collapsed": true
   },
   "outputs": [],
   "source": []
  }
 ],
 "metadata": {
  "kernelspec": {
   "display_name": "Python 3",
   "language": "python",
   "name": "python3"
  },
  "language_info": {
   "codemirror_mode": {
    "name": "ipython",
    "version": 3
   },
   "file_extension": ".py",
   "mimetype": "text/x-python",
   "name": "python",
   "nbconvert_exporter": "python",
   "pygments_lexer": "ipython3",
   "version": "3.5.0"
  }
 },
 "nbformat": 4,
 "nbformat_minor": 0
}
